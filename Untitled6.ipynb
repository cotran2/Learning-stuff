{
 "cells": [
  {
   "cell_type": "code",
   "execution_count": 3,
   "metadata": {},
   "outputs": [
    {
     "ename": "NameError",
     "evalue": "name 'DecisionTree' is not defined",
     "output_type": "error",
     "traceback": [
      "\u001b[1;31m---------------------------------------------------------------------------\u001b[0m",
      "\u001b[1;31mNameError\u001b[0m                                 Traceback (most recent call last)",
      "\u001b[1;32m<ipython-input-3-1f0e629089fd>\u001b[0m in \u001b[0;36m<module>\u001b[1;34m()\u001b[0m\n\u001b[0;32m     52\u001b[0m \u001b[1;33m\u001b[0m\u001b[0m\n\u001b[0;32m     53\u001b[0m \u001b[1;31m# main function\u001b[0m\u001b[1;33m\u001b[0m\u001b[1;33m\u001b[0m\u001b[0m\n\u001b[1;32m---> 54\u001b[1;33m \u001b[0mmain\u001b[0m\u001b[1;33m(\u001b[0m\u001b[1;33m)\u001b[0m\u001b[1;33m\u001b[0m\u001b[0m\n\u001b[0m\u001b[0;32m     55\u001b[0m \u001b[1;33m\u001b[0m\u001b[0m\n\u001b[0;32m     56\u001b[0m \u001b[1;31m#Any files you save will be available in the output tab below\u001b[0m\u001b[1;33m\u001b[0m\u001b[1;33m\u001b[0m\u001b[0m\n",
      "\u001b[1;32m<ipython-input-3-1f0e629089fd>\u001b[0m in \u001b[0;36mmain\u001b[1;34m()\u001b[0m\n\u001b[0;32m     48\u001b[0m     \u001b[0msurvived\u001b[0m\u001b[1;33m,\u001b[0m \u001b[0mdata_train\u001b[0m \u001b[1;33m=\u001b[0m \u001b[0mload_file_train\u001b[0m\u001b[1;33m(\u001b[0m\u001b[1;33m)\u001b[0m\u001b[1;33m\u001b[0m\u001b[0m\n\u001b[0;32m     49\u001b[0m     \u001b[0mdata_test\u001b[0m\u001b[1;33m,\u001b[0m\u001b[0mpassId\u001b[0m \u001b[1;33m=\u001b[0m \u001b[0mload_file_test\u001b[0m\u001b[1;33m(\u001b[0m\u001b[1;33m)\u001b[0m\u001b[1;33m\u001b[0m\u001b[0m\n\u001b[1;32m---> 50\u001b[1;33m     \u001b[0mlearn_model\u001b[0m\u001b[1;33m(\u001b[0m\u001b[0msurvived\u001b[0m\u001b[1;33m,\u001b[0m\u001b[0mdata_train\u001b[0m\u001b[1;33m,\u001b[0m\u001b[0mdata_test\u001b[0m\u001b[1;33m,\u001b[0m\u001b[0mpassId\u001b[0m\u001b[1;33m)\u001b[0m\u001b[1;33m\u001b[0m\u001b[0m\n\u001b[0m\u001b[0;32m     51\u001b[0m     \u001b[0mmetrics\u001b[0m\u001b[1;33m.\u001b[0m\u001b[0maccuracy_score\u001b[0m\u001b[1;33m(\u001b[0m\u001b[0my_test\u001b[0m\u001b[1;33m,\u001b[0m \u001b[0my_pred\u001b[0m\u001b[1;33m)\u001b[0m\u001b[1;33m\u001b[0m\u001b[0m\n\u001b[0;32m     52\u001b[0m \u001b[1;33m\u001b[0m\u001b[0m\n",
      "\u001b[1;32m<ipython-input-3-1f0e629089fd>\u001b[0m in \u001b[0;36mlearn_model\u001b[1;34m(survived, data_train, data_test, passId)\u001b[0m\n\u001b[0;32m     35\u001b[0m     \u001b[1;31m#data_train, data_test, target_train, target_test = cross_validation.train_test_split(data, survived,\u001b[0m\u001b[1;33m\u001b[0m\u001b[1;33m\u001b[0m\u001b[0m\n\u001b[0;32m     36\u001b[0m    \u001b[1;31m#                                                                                      test_size=0.4, random_state=43)\u001b[0m\u001b[1;33m\u001b[0m\u001b[1;33m\u001b[0m\u001b[0m\n\u001b[1;32m---> 37\u001b[1;33m     \u001b[0mmodel\u001b[0m \u001b[1;33m=\u001b[0m \u001b[0mDecisionTree\u001b[0m\u001b[1;33m(\u001b[0m\u001b[1;33m)\u001b[0m\u001b[1;33m\u001b[0m\u001b[0m\n\u001b[0m\u001b[0;32m     38\u001b[0m     \u001b[0mmodel\u001b[0m\u001b[1;33m.\u001b[0m\u001b[0mfit\u001b[0m\u001b[1;33m(\u001b[0m\u001b[0mdata_train\u001b[0m\u001b[1;33m,\u001b[0m\u001b[0msurvived\u001b[0m\u001b[1;33m)\u001b[0m\u001b[1;33m\u001b[0m\u001b[0m\n\u001b[0;32m     39\u001b[0m     \u001b[0mpredicted\u001b[0m \u001b[1;33m=\u001b[0m \u001b[0mmodel\u001b[0m\u001b[1;33m.\u001b[0m\u001b[0mpredict\u001b[0m\u001b[1;33m(\u001b[0m\u001b[0mdata_test\u001b[0m\u001b[1;33m)\u001b[0m\u001b[1;33m\u001b[0m\u001b[0m\n",
      "\u001b[1;31mNameError\u001b[0m: name 'DecisionTree' is not defined"
     ]
    }
   ],
   "source": [
    "import numpy as np\n",
    "import pandas as pd\n",
    "import csv\n",
    "from pandas import *\n",
    "from sklearn import cross_validation\n",
    "from sklearn.linear_model import LogisticRegression\n",
    "from sklearn.metrics import classification_report, confusion_matrix, accuracy_score\n",
    "\n",
    "\n",
    "def load_file_train():\n",
    "    train_df = pd.read_csv(r\"D:\\Documents\\ML\\train.csv\")\n",
    "    cols = [\"Pclass\",\"Sex\",\"Age\"]\n",
    "    #change male to 1 and female to 0\n",
    "    train_df[\"Sex\"] = train_df[\"Sex\"].apply(lambda sex:1 if sex==\"male\" else 0)\n",
    "    #handle missing values of age\n",
    "    train_df[\"Age\"] = train_df[\"Age\"].fillna(train_df[\"Age\"].mean())\n",
    "    train_df[\"Fare\"] = train_df[\"Fare\"].fillna(train_df[\"Fare\"].mean())\n",
    "    survived = train_df[\"Survived\"].values\n",
    "    data = train_df[cols].values\n",
    "    return survived,data\n",
    "    \n",
    "def load_file_test():\n",
    "         \n",
    "    return data,passId\n",
    "\n",
    "def learn_model(survived,data_train,data_test,passId):\n",
    "    #data_train, data_test, target_train, target_test = cross_validation.train_test_split(data, survived,\n",
    "   #                                                                                      test_size=0.4, random_state=43)\n",
    "    model = DecisionTree()\n",
    "    model.fit(data_train,survived)\n",
    "    predicted = model.predict(data_test)\n",
    "    #evaluate_model(predicted,target_test)\n",
    "    output = pd.DataFrame(columns=['PassengerId', 'Survived'])\n",
    "    output['PassengerId'] = passId\n",
    "    output['Survived'] = predicted.astype(int)\n",
    "    output.to_csv('logisticRegressionSubmit.csv', index=False)\n",
    "    #write.csv(my_logit, file = \"logisticRegressionSubmit.csv\")\n",
    "\n",
    "def main():\n",
    "    survived, data_train = load_file_train()\n",
    "    data_test,passId = load_file_test()\n",
    "    learn_model(survived,data_train,data_test,passId)\n",
    "    metrics.accuracy_score(y_test, y_pred)\n",
    "\n",
    "# main function\n",
    "main()\n",
    "\n",
    "#Any files you save will be available in the output tab below\n",
    "#train.to_csv('copy_of_the_training_data.csv', index=False)"
   ]
  },
  {
   "cell_type": "code",
   "execution_count": null,
   "metadata": {
    "collapsed": true
   },
   "outputs": [],
   "source": []
  }
 ],
 "metadata": {
  "kernelspec": {
   "display_name": "Python 3",
   "language": "python",
   "name": "python3"
  },
  "language_info": {
   "codemirror_mode": {
    "name": "ipython",
    "version": 3
   },
   "file_extension": ".py",
   "mimetype": "text/x-python",
   "name": "python",
   "nbconvert_exporter": "python",
   "pygments_lexer": "ipython3",
   "version": "3.6.2"
  }
 },
 "nbformat": 4,
 "nbformat_minor": 2
}
