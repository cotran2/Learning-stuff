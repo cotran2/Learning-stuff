{
 "cells": [
  {
   "cell_type": "code",
   "execution_count": 11,
   "metadata": {},
   "outputs": [
    {
     "name": "stdout",
     "output_type": "stream",
     "text": [
      "['k', 'r', 'r']\n",
      "[('r', 2)]\n"
     ]
    },
    {
     "data": {
      "image/png": "[encoded data removed]",
      "text/plain": [
       "<matplotlib.figure.Figure at 0x15a67163ac8>"
      ]
     },
     "metadata": {},
     "output_type": "display_data"
    }
   ],
   "source": [
    "import numpy as np\n",
    "from math import sqrt\n",
    "import matplotlib.pyplot as plt\n",
    "from matplotlib import style\n",
    "from collections import Counter\n",
    "import warnings\n",
    "import pandas as pd\n",
    "import random\n",
    "\n",
    "style.use('fivethirtyeight')\n",
    "#data set initialization\n",
    "dataset = {'k':[[1,2],[2,3],[3,1]],'r':[[6,5],[7,7],[8,6]]}\n",
    "new_features = [2,7]\n",
    "#plt\n",
    "#define neirest neighbor\n",
    "def k_nearest_neighbors(data,predict,k=3):\n",
    "    if len(data)>k:\n",
    "        \n",
    "        warnings.warn(\"K is set to a value less than the total groups\")\n",
    "    distance = []\n",
    "    for group in data:\n",
    "            for features in data[group]:\n",
    "                euclidean_distance = np.linalg.norm(np.array(features)-np.array(predict))\n",
    "                distance.append([euclidean_distance,group])\n",
    "    votes =[i[1] for i in sorted(distance)[:k]]\n",
    "    print(votes)\n",
    "    vote_result=Counter(votes).most_common(1)[0][0]\n",
    "    print(Counter(votes).most_common(1))\n",
    "    return vote_result\n",
    "result = k_nearest_neighbors(dataset,new_features,k=3)\n",
    "[[plt.scatter(ii[0],ii[1],s=100,color=i) for ii in dataset[i]]for i in dataset]\n",
    "plt.scatter(new_features[0],new_features[1],s=50,color=result)\n",
    "plt.show()"
   ]
  },
  {
   "cell_type": "code",
   "execution_count": null,
   "metadata": {
    "collapsed": true
   },
   "outputs": [],
   "source": []
  }
 ],
 "metadata": {
  "kernelspec": {
   "display_name": "Python 3",
   "language": "python",
   "name": "python3"
  },
  "language_info": {
   "codemirror_mode": {
    "name": "ipython",
    "version": 3
   },
   "file_extension": ".py",
   "mimetype": "text/x-python",
   "name": "python",
   "nbconvert_exporter": "python",
   "pygments_lexer": "ipython3",
   "version": "3.6.2"
  }
 },
 "nbformat": 4,
 "nbformat_minor": 2
}
