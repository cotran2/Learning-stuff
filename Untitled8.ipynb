{
 "cells": [
  {
   "cell_type": "code",
   "execution_count": 1,
   "metadata": {
    "collapsed": true
   },
   "outputs": [],
   "source": [
    "import pandas as pd\n",
    "import numpy as np"
   ]
  },
  {
   "cell_type": "code",
   "execution_count": 2,
   "metadata": {
    "collapsed": true
   },
   "outputs": [],
   "source": [
    "train_df = pd.read_csv(r\"D:\\Documents\\ML\\test.csv\")\n",
    "cols = [\"Pclass\",\"Sex\",\"Age\"]\n",
    "#change male to 1 and female to 0\n",
    "train_df[\"Sex\"] = train_df[\"Sex\"].apply(lambda sex:1 if sex==\"male\" else 0)\n",
    "#handle missing values of age\n",
    "train_df[\"Age\"] = train_df[\"Age\"].fillna(train_df[\"Age\"].mean())\n",
    "train_df[\"Fare\"] = train_df[\"Fare\"].fillna(train_df[\"Fare\"].mean())\n",
    "data = train_df[cols].values\n",
    "passId = train_df[\"PassengerId\"].values"
   ]
  },
  {
   "cell_type": "code",
   "execution_count": 7,
   "metadata": {},
   "outputs": [
    {
     "data": {
      "text/plain": [
       "(418, 3)"
      ]
     },
     "execution_count": 7,
     "metadata": {},
     "output_type": "execute_result"
    }
   ],
   "source": [
    "data.shape"
   ]
  },
  {
   "cell_type": "code",
   "execution_count": null,
   "metadata": {
    "collapsed": true
   },
   "outputs": [],
   "source": [
    "clf = LogisticRegression()\n",
    "clf.fit(data_train,survived)\n",
    "predicted = model.predict(data_test)\n",
    " #evaluate_model(predicted,target_test)\n",
    "output = pd.DataFrame(columns=['PassengerId', 'Survived'])\n",
    "output['PassengerId'] = passId\n",
    "output['Survived'] = predicted.astype(int)\n",
    "output.to_csv('logisticRegressionSubmit.csv', index=False)"
   ]
  }
 ],
 "metadata": {
  "kernelspec": {
   "display_name": "Python 3",
   "language": "python",
   "name": "python3"
  },
  "language_info": {
   "codemirror_mode": {
    "name": "ipython",
    "version": 3
   },
   "file_extension": ".py",
   "mimetype": "text/x-python",
   "name": "python",
   "nbconvert_exporter": "python",
   "pygments_lexer": "ipython3",
   "version": "3.6.2"
  }
 },
 "nbformat": 4,
 "nbformat_minor": 2
}
